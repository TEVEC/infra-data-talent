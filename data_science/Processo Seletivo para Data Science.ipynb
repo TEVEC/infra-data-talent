{
 "cells": [
  {
   "cell_type": "markdown",
   "metadata": {},
   "source": [
    "### Olá Candidato\n",
    "\n",
    "Esse é o processo seletivo para a equipe de Data Science da Tevec. Ficamos muito felizes com sua participação. Procuramos montar um processo interessante e que estimule a sua criatividade. \n",
    "\n",
    "Você será avaliado segundo os seguintes critérios:\n",
    "1. Raciocínio e forma de estruturação de problemas\n",
    "2. Qualidade e limpeza do código\n",
    "3. Legibilidade do seu código\n",
    "4. Documentação do código\n",
    "5. Domínio dos conceitos de *machine learning*\n",
    "6. Nos cases práticos, você será avaliado pela qualidade e criatividade das visualizações de dados propostas e pelos insights comentados dos cases\n",
    "7. Nos cases práticos, você será avaliado pela qualidade do seu código, capacidade de reprodução e tratamento de excessões\n",
    "8. A criatividade na criação e proposição de features contará como um diferencial\n",
    "\n",
    "Responda a cada pergunta entre os markdowns respectivos. Algumas perguntas requerem que a entrega seja feita por meio de um arquivo .py que será executado para avaliação.\n",
    "\n",
    "Boa sorte!"
   ]
  },
  {
   "cell_type": "markdown",
   "metadata": {},
   "source": [
    "## [Parte 1] Perguntas Dissertativas"
   ]
  },
  {
   "cell_type": "markdown",
   "metadata": {},
   "source": [
    "#### 1.\tSe você tivesse que propor uma aplicação para um produto de IA para o varejo brasileiro, qual seria e por quê?"
   ]
  },
  {
   "cell_type": "code",
   "execution_count": null,
   "metadata": {},
   "outputs": [],
   "source": []
  },
  {
   "cell_type": "markdown",
   "metadata": {},
   "source": [
    "#### 2. Qual sua experiência com metodologias ágeis?"
   ]
  },
  {
   "cell_type": "code",
   "execution_count": null,
   "metadata": {},
   "outputs": [],
   "source": []
  },
  {
   "cell_type": "markdown",
   "metadata": {},
   "source": [
    "#### 3.\tVocê já trabalhou em uma start-up? Se sim, comente sobre pontos positivos e negativos. Se não, nos conte suas expectativas."
   ]
  },
  {
   "cell_type": "code",
   "execution_count": null,
   "metadata": {},
   "outputs": [],
   "source": []
  },
  {
   "cell_type": "markdown",
   "metadata": {},
   "source": [
    "#### 4. Qual o conceito de machine learning mais recente que você aprendeu? O que lhe chamou atenção nesse conceito?"
   ]
  },
  {
   "cell_type": "code",
   "execution_count": null,
   "metadata": {},
   "outputs": [],
   "source": []
  },
  {
   "cell_type": "markdown",
   "metadata": {},
   "source": [
    "#### 5. Comente algum artigo de Data Science que você tenha lido nas últimas semanas? O que lhe chamou atenção?"
   ]
  },
  {
   "cell_type": "code",
   "execution_count": null,
   "metadata": {},
   "outputs": [],
   "source": []
  },
  {
   "cell_type": "markdown",
   "metadata": {},
   "source": [
    "#### 6. Qual seu algoritmo preferido para iniciar a investigação de problemas de classificação e/ou regressão? Por quê?"
   ]
  },
  {
   "cell_type": "code",
   "execution_count": null,
   "metadata": {},
   "outputs": [],
   "source": []
  },
  {
   "cell_type": "markdown",
   "metadata": {},
   "source": [
    "#### 7. Explique para um leigo, como funciona um classificador RandomForest."
   ]
  },
  {
   "cell_type": "code",
   "execution_count": null,
   "metadata": {},
   "outputs": [],
   "source": []
  },
  {
   "cell_type": "markdown",
   "metadata": {},
   "source": [
    "#### 8. Explique para um leigo, como funciona um regressor K-NN."
   ]
  },
  {
   "cell_type": "code",
   "execution_count": null,
   "metadata": {},
   "outputs": [],
   "source": []
  },
  {
   "cell_type": "markdown",
   "metadata": {},
   "source": [
    "## [Parte 2] Cases práticos"
   ]
  },
  {
   "cell_type": "markdown",
   "metadata": {},
   "source": [
    "#### Case 1: Classificação binária\n",
    "\n",
    "Considere os dados do arquivo artificial_binary_classification_data.csv. São dados gerados artificialmente para um problema de classificação binária. O Dataset contém features relevantes e irrelevantes. As features não são linearmente independentes (existem combinações lineares presentes no dataset). \n",
    "\n",
    "Faça uma análise descritiva das features e monte um modelo de classificação com uma técnica de ensemble da sua preferência (comente o motivo da escolha do algoritmo, suas vantagens e desvantagens).\n",
    "\n",
    "Esse case pode ser desenvolvido nesse notebook ou em outro, conforme sua preferência."
   ]
  },
  {
   "cell_type": "code",
   "execution_count": null,
   "metadata": {},
   "outputs": [],
   "source": []
  },
  {
   "cell_type": "markdown",
   "metadata": {},
   "source": [
    "#### Case 2: Séries temporais e modularização\n",
    "\n",
    "Considere os dados do conjunto \"serie_vendas.csv\". Com base nos dados:\n",
    "1. Faça uma descrição dos dados de acordo com análises que julgar relevantes, por exemplo: estatística descritiva, análise de sazonalidade, etc. Essas análises devem conter gráficos, visualizações e explicações.\n",
    "2. Qual o tipo de produto que você imagina que vende nessa loja? Justifique sua resposta.\n",
    "3. Liste os 10 SKUs que tiveram as maiores vendas no segundo semestre de 2017.\n",
    "4. Verifique a consistência entre a venda e o estoque do SKU que apresentou a maior venda no segundo semestre de 2017.\n",
    "5. Construa um modelo genérico de previsão de vendas de um SKU. Na entrada do modelo podem ser colocadas quaisquer variáveis, e a saída do modelo deve ser a previsão do volume total de vendas de um determinado SKU por dia.\n",
    "6. Modularize seu modelo do item (5) em uma classe que funciona como um serviço. o serviço deve esperar como entrada um arquivo json no formado serie_temporal_input.json e deve retornar como output um arquivo json no formato serie_temporal_output.json\n",
    "\n",
    "Os itens 1 a 5 podem ser desenvolvidos no próprio notebook. \n",
    "\n",
    "No caso do item 6, fique a vontade para construir suas análises e protópos no próprio notebook, mas a entrega deve ser realizada por meio de um arquivo .py conforme o exemplo serie_temporal.py."
   ]
  },
  {
   "cell_type": "code",
   "execution_count": 1,
   "metadata": {},
   "outputs": [
    {
     "name": "stdout",
     "output_type": "stream",
     "text": [
      "{'request': {'dates': ['2018-01-01', '2018-01-02', '2018-01-03']}}\n",
      "{'response': [{'date': '2018-01-01', 'forecast': 10}, {'date': '2018-01-02', 'forecast': 15}, {'date': '2018-01-03', 'forecast': 20}]}\n"
     ]
    }
   ],
   "source": [
    "import json\n",
    "i  = open(\"serie_vendas_input.json\")\n",
    "print(json.load(i))\n",
    "o = open(\"serie_vendas_output.json\")\n",
    "print(json.load(o))"
   ]
  },
  {
   "cell_type": "code",
   "execution_count": null,
   "metadata": {},
   "outputs": [],
   "source": []
  },
  {
   "cell_type": "markdown",
   "metadata": {},
   "source": [
    "#### Case 3: Caixa Eletrônico\n",
    "\n",
    "Você foi encarregado de programar o software de um caixa eletrônico que trabalha com notas de 20 e 50. O caixa deve receber como input uma quantia e deve retornar a **quantidade mínima** de cédulas que atende a quantidade solicitada. \n",
    "\n",
    "O padrão de inputs é exemplificado no arquivo caixa_eletronico_input.json.\n",
    "\n",
    "O padrão de outputs bem sucedidos é exemplificado no arquivo caixa_eletronico_output_success.json. O padrão de outputs mal sucedidos é exemplificado no arquivo caixa_eletronico_output_fail.json.\n",
    "\n",
    "O arquivo caixa_eletronico_amostras_teste.json será utilizado para avaliar seu programa. \n",
    "\n",
    "Fique a vontade para construir suas análises e protópos no próprio notebook, mas a entrega deve ser realizada por meio de um arquivo .py conforme o exemplo caixa_eletronico.py. "
   ]
  },
  {
   "cell_type": "code",
   "execution_count": 5,
   "metadata": {},
   "outputs": [
    {
     "name": "stdout",
     "output_type": "stream",
     "text": [
      "{'request': {'userID': 837495729487834, 'request': 120}}\n",
      "{'requester': {'userID': 837495729487834, 'requested': 120}, 'response': {'20': 1, '50': 2}}\n",
      "{'requester': {'userID': 837495729487834, 'requested': 120}, 'response': {'error': 'Sua mensagem de erro'}}\n"
     ]
    }
   ],
   "source": [
    "import json\n",
    "i  = open(\"caixa_eletronico_input.json\")\n",
    "print(json.load(i))\n",
    "o_success = open(\"caixa_eletronico_output_success.json\")\n",
    "print(json.load(o_success))\n",
    "o_fail = open(\"caixa_eletronico_output_fail.json\")\n",
    "print(json.load(o_fail))"
   ]
  },
  {
   "cell_type": "code",
   "execution_count": null,
   "metadata": {},
   "outputs": [],
   "source": []
  },
  {
   "cell_type": "markdown",
   "metadata": {},
   "source": [
    "#### Case 4: Deep Learning\n",
    "\n",
    "Construa uma rede neural para um problema de NLP para análise de sentimentos (sentiment analysis). O modelo deve ser construído utilizando um dos seguintes frameworks:\n",
    "\n",
    "- pytorch\n",
    "- tensorflow\n",
    "- keras\n",
    "\n",
    "O problema possui as seguintes especificações:\n",
    "\n",
    "1. A entrada são frases de 100 caracteres\n",
    "2. A saída são valores no intervalo (-1, 1) indicando se o sentimento é negativo, neutro ou positivo\n",
    "\n",
    "Explique a estrutura e motivo da arquitetura escolhida.\n",
    "\n",
    "A entrega desse caso pode ser realizada no próprio notebook, ou num arquivo .py se preferir. A avaliação do case será baseada na estrutura da rede e nos comentários da estrutura. Coloque as referências bibliográficas que achar relevantes."
   ]
  },
  {
   "cell_type": "code",
   "execution_count": null,
   "metadata": {},
   "outputs": [],
   "source": []
  }
 ],
 "metadata": {
  "kernelspec": {
   "display_name": "Python 3",
   "language": "python",
   "name": "python3"
  },
  "language_info": {
   "codemirror_mode": {
    "name": "ipython",
    "version": 3
   },
   "file_extension": ".py",
   "mimetype": "text/x-python",
   "name": "python",
   "nbconvert_exporter": "python",
   "pygments_lexer": "ipython3",
   "version": "3.6.6"
  }
 },
 "nbformat": 4,
 "nbformat_minor": 2
}
